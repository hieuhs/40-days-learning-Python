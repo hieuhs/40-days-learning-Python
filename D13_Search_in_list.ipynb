{
  "nbformat": 4,
  "nbformat_minor": 0,
  "metadata": {
    "colab": {
      "provenance": []
    },
    "kernelspec": {
      "name": "python3",
      "display_name": "Python 3"
    },
    "language_info": {
      "name": "python"
    }
  },
  "cells": [
    {
      "cell_type": "code",
      "execution_count": null,
      "metadata": {
        "colab": {
          "base_uri": "https://localhost:8080/"
        },
        "id": "7gN4eJKqHwMp",
        "outputId": "e8038b28-cf4a-462d-e075-059bc754fd27"
      },
      "outputs": [
        {
          "output_type": "stream",
          "name": "stdout",
          "text": [
            "('first value none is f[2]', 'all value none is [4, 6]')\n"
          ]
        }
      ],
      "source": [
        "def findNoneValue(data):\n",
        "  flag = 0\n",
        "  indexFirstNone = []\n",
        "  indexNone = []\n",
        "  for index, number in enumerate(data, start = 0):\n",
        "    if number == None and flag == 0:\n",
        "      indexFirstNone.append(index)\n",
        "      flag += 1\n",
        "    elif number == None:\n",
        "      indexNone.append(index)\n",
        "    if index == len(data) - 1:\n",
        "      firstValue = f'first value none is f{indexFirstNone}'\n",
        "      nullValue = f'all value none is {indexNone}'\n",
        "      return firstValue, nullValue\n",
        "\n",
        "lst_data = [1, 1.1, None, 1.4, None, 1.5, None, 2.0]\n",
        "value = findNoneValue(lst_data)\n",
        "print(value)"
      ]
    }
  ]
}