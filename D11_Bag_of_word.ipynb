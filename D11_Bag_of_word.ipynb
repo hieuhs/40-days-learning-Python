{
  "nbformat": 4,
  "nbformat_minor": 0,
  "metadata": {
    "colab": {
      "provenance": []
    },
    "kernelspec": {
      "name": "python3",
      "display_name": "Python 3"
    },
    "language_info": {
      "name": "python"
    }
  },
  "cells": [
    {
      "cell_type": "code",
      "execution_count": null,
      "metadata": {
        "colab": {
          "base_uri": "https://localhost:8080/",
          "height": 35
        },
        "id": "gfye_u94ElWb",
        "outputId": "d0a6db59-1870-40cd-a19b-bdd589423106"
      },
      "outputs": [
        {
          "output_type": "execute_result",
          "data": {
            "text/plain": [
              "'Tôi thích môn Toán Tôi thích AI Tôi thích âm nhạc'"
            ],
            "application/vnd.google.colaboratory.intrinsic+json": {
              "type": "string"
            }
          },
          "metadata": {},
          "execution_count": 1
        }
      ],
      "source": [
        "#Tạo Bag of Words\n",
        "corpus = [\"Tôi thích môn Toán\", \"Tôi thích AI\", \"Tôi thích âm nhạc\"]\n",
        "\n",
        "data = ' '.join(corpus)\n",
        "data"
      ]
    },
    {
      "cell_type": "code",
      "source": [
        "#danh sach cac word unique\n",
        "distinct_words = list(set(data.split()))\n",
        "length = len(distinct_words)\n",
        "\n",
        "distinct_words"
      ],
      "metadata": {
        "colab": {
          "base_uri": "https://localhost:8080/"
        },
        "id": "9oqvzVfMFTmf",
        "outputId": "748e17f4-f6f5-42dc-f271-2b34e834ecd4"
      },
      "execution_count": null,
      "outputs": [
        {
          "output_type": "execute_result",
          "data": {
            "text/plain": [
              "['Toán', 'âm', 'môn', 'nhạc', 'thích', 'Tôi', 'AI']"
            ]
          },
          "metadata": {},
          "execution_count": 2
        }
      ]
    },
    {
      "cell_type": "code",
      "source": [
        "#index cac word\n",
        "for i, word in enumerate(distinct_words):\n",
        "  print(i, word)"
      ],
      "metadata": {
        "colab": {
          "base_uri": "https://localhost:8080/"
        },
        "id": "Jm_PtdMKFcVr",
        "outputId": "95a30ad9-7889-47e6-dd93-05843abd564f"
      },
      "execution_count": null,
      "outputs": [
        {
          "output_type": "stream",
          "name": "stdout",
          "text": [
            "0 Toán\n",
            "1 âm\n",
            "2 môn\n",
            "3 nhạc\n",
            "4 thích\n",
            "5 Tôi\n",
            "6 AI\n"
          ]
        }
      ]
    },
    {
      "cell_type": "code",
      "source": [
        "#thuc hien vectorization\n",
        "\n",
        "sample = \"Tôi thích AI thích Toán\"\n",
        "sample_vec = [0]*length\n",
        "sample_words = sample.split()\n",
        "\n",
        "#chay vong lap qua tung tu trong sample_words, tai vi tri cua tung item trong distinct_word cong them\n",
        "#gia tri 1 neu co\n",
        "\n",
        "for word in sample_words:\n",
        "  sample_vec[distinct_words.index(word)] += 1\n",
        "print(sample_vec)"
      ],
      "metadata": {
        "colab": {
          "base_uri": "https://localhost:8080/"
        },
        "id": "hE7AvxpzFm1m",
        "outputId": "bd4107af-35b1-4cf1-a8d8-5ef327d090db"
      },
      "execution_count": null,
      "outputs": [
        {
          "output_type": "stream",
          "name": "stdout",
          "text": [
            "[1, 0, 0, 0, 2, 1, 1]\n"
          ]
        }
      ]
    }
  ]
}