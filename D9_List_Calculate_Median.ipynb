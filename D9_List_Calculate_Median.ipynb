{
  "nbformat": 4,
  "nbformat_minor": 0,
  "metadata": {
    "colab": {
      "provenance": []
    },
    "kernelspec": {
      "name": "python3",
      "display_name": "Python 3"
    },
    "language_info": {
      "name": "python"
    }
  },
  "cells": [
    {
      "cell_type": "code",
      "execution_count": null,
      "metadata": {
        "colab": {
          "base_uri": "https://localhost:8080/"
        },
        "id": "5TIrSaR6Ajkf",
        "outputId": "9af90a7f-058d-44b1-9c57-993183a66d90"
      },
      "outputs": [
        {
          "output_type": "stream",
          "name": "stdout",
          "text": [
            "[1, 2, 3, 4, 5, 6, 7, 8, 9, 10]\n"
          ]
        }
      ],
      "source": [
        "lst_data = [1,2,3,4,5,6,7,8,9,10]\n",
        "lst_data.sort()\n",
        "print(lst_data)"
      ]
    },
    {
      "cell_type": "code",
      "source": [
        "def calculate_median(lst_data):\n",
        "  n = len(lst_data)\n",
        "  if n % 2 == 0:\n",
        "    return (lst_data[n//2] + lst_data[n//2 - 1])/2\n",
        "  else:\n",
        "    return (lst_data[n//2])"
      ],
      "metadata": {
        "id": "3cGytCLVBJCN"
      },
      "execution_count": null,
      "outputs": []
    },
    {
      "cell_type": "code",
      "source": [
        "calculate_median(lst_data)"
      ],
      "metadata": {
        "colab": {
          "base_uri": "https://localhost:8080/"
        },
        "id": "6uW_n2d6CJqX",
        "outputId": "5d12f1aa-81ad-4264-9d9f-f1bcda78ec4b"
      },
      "execution_count": null,
      "outputs": [
        {
          "output_type": "execute_result",
          "data": {
            "text/plain": [
              "5.5"
            ]
          },
          "metadata": {},
          "execution_count": 7
        }
      ]
    },
    {
      "cell_type": "code",
      "source": [
        "lst_odd_filter = []\n",
        "for i in lst_data:\n",
        "  if i % 2 == 1:\n",
        "    lst_odd_filter.append(i)\n",
        "    lst_odd_filter.sort(reverse = True)\n",
        "print(lst_odd_filter)"
      ],
      "metadata": {
        "colab": {
          "base_uri": "https://localhost:8080/"
        },
        "id": "-KxYmFxACQbF",
        "outputId": "d6d38388-f63d-495a-b6f8-f58dbe36d277"
      },
      "execution_count": null,
      "outputs": [
        {
          "output_type": "stream",
          "name": "stdout",
          "text": [
            "[9, 7, 5, 3, 1]\n"
          ]
        }
      ]
    }
  ]
}