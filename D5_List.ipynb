{
  "nbformat": 4,
  "nbformat_minor": 0,
  "metadata": {
    "colab": {
      "provenance": []
    },
    "kernelspec": {
      "name": "python3",
      "display_name": "Python 3"
    },
    "language_info": {
      "name": "python"
    }
  },
  "cells": [
    {
      "cell_type": "code",
      "execution_count": null,
      "metadata": {
        "colab": {
          "base_uri": "https://localhost:8080/"
        },
        "id": "96c3mONM2JIL",
        "outputId": "4cfe8697-a997-4e56-ace4-e5ead0c68ef7"
      },
      "outputs": [
        {
          "output_type": "execute_result",
          "data": {
            "text/plain": [
              "[1, 2, 3, 4, 5]"
            ]
          },
          "metadata": {},
          "execution_count": 1
        }
      ],
      "source": [
        "lst_data = [1,2,3,4,5,6,7,8,9,10]\n",
        "lst_data[0:5]"
      ]
    },
    {
      "cell_type": "code",
      "source": [
        "so_le = []\n",
        "for i in range(len(lst_data)):\n",
        "  if lst_data[i] % 2 != 0:\n",
        "    so_le.append(lst_data[i])\n",
        "\n",
        "print(so_le)"
      ],
      "metadata": {
        "colab": {
          "base_uri": "https://localhost:8080/"
        },
        "id": "XypByamQ2kT3",
        "outputId": "facdbd88-3d93-4c2f-937a-c3714a5a03da"
      },
      "execution_count": null,
      "outputs": [
        {
          "output_type": "stream",
          "name": "stdout",
          "text": [
            "[1, 3, 5, 7, 9]\n"
          ]
        }
      ]
    },
    {
      "cell_type": "code",
      "source": [
        "result = 0\n",
        "for i in range(len(lst_data)):\n",
        "  result += lst_data[i]\n",
        "\n",
        "print(result)"
      ],
      "metadata": {
        "colab": {
          "base_uri": "https://localhost:8080/"
        },
        "id": "lwlkOqCe3GP-",
        "outputId": "bd42c139-bce3-4afc-d166-7bac8ad2d4c9"
      },
      "execution_count": null,
      "outputs": [
        {
          "output_type": "stream",
          "name": "stdout",
          "text": [
            "55\n"
          ]
        }
      ]
    }
  ]
}