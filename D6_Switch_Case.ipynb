{
  "nbformat": 4,
  "nbformat_minor": 0,
  "metadata": {
    "colab": {
      "provenance": []
    },
    "kernelspec": {
      "name": "python3",
      "display_name": "Python 3"
    },
    "language_info": {
      "name": "python"
    }
  },
  "cells": [
    {
      "cell_type": "code",
      "execution_count": null,
      "metadata": {
        "colab": {
          "base_uri": "https://localhost:8080/"
        },
        "id": "1oaP0CG_3i3c",
        "outputId": "bc05e07a-ebc6-43a5-9989-c7e33d4529c6"
      },
      "outputs": [
        {
          "output_type": "stream",
          "name": "stdout",
          "text": [
            "Input time6 AM\n",
            "Yoga\n"
          ]
        }
      ],
      "source": [
        "#method 1: if ifel else\n",
        "\n",
        "time = input(\"Input time\")\n",
        "\n",
        "if time == \"5 AM\":\n",
        "  print(\"Wake up\")\n",
        "elif time == \"6 AM\":\n",
        "  print(\"Yoga\")\n",
        "elif time == \"7 AM\":\n",
        "  print(\"Work\")\n",
        "else:\n",
        "  print(\"Do something else\")"
      ]
    },
    {
      "cell_type": "code",
      "source": [
        "#Method 2: Dictionary\n",
        "\n",
        "todo = {\"5 AM\": \"Wake up\",\n",
        "        \"6 AM\": \"Yoga\",\n",
        "        \"7 AM\": \"Work\"}\n",
        "time = input(\"Input time\")\n",
        "todo.get(time, \"Do something else\")"
      ],
      "metadata": {
        "colab": {
          "base_uri": "https://localhost:8080/",
          "height": 52
        },
        "id": "dyBwkJ3Z40uW",
        "outputId": "2d57a174-0d15-4da2-f4ba-82f2638622d2"
      },
      "execution_count": null,
      "outputs": [
        {
          "name": "stdout",
          "output_type": "stream",
          "text": [
            "Input time8 AM\n"
          ]
        },
        {
          "output_type": "execute_result",
          "data": {
            "text/plain": [
              "'Do something else'"
            ],
            "application/vnd.google.colaboratory.intrinsic+json": {
              "type": "string"
            }
          },
          "metadata": {},
          "execution_count": 4
        }
      ]
    },
    {
      "cell_type": "code",
      "source": [
        "#Method 3: Match case\n",
        "time = input(\"Input time: \")\n",
        "\n",
        "match time:\n",
        "  case \"5 AM\":\n",
        "    print(\"Wake up\")\n",
        "  case \"6 AM\":\n",
        "    print(\"Yoga\")\n",
        "  case \"7 AM\":\n",
        "    print(\"Work\")\n",
        "  case _:\n",
        "    print(\"Do something else\")"
      ],
      "metadata": {
        "colab": {
          "base_uri": "https://localhost:8080/"
        },
        "id": "_Hv-LHdH5fMr",
        "outputId": "b81cd276-5e64-41e3-eb5f-4545965e58c7"
      },
      "execution_count": null,
      "outputs": [
        {
          "output_type": "stream",
          "name": "stdout",
          "text": [
            "Input time: 6 AM\n",
            "Yoga\n"
          ]
        }
      ]
    }
  ]
}