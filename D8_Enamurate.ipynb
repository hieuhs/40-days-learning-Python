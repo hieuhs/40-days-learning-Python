{
  "nbformat": 4,
  "nbformat_minor": 0,
  "metadata": {
    "colab": {
      "provenance": []
    },
    "kernelspec": {
      "name": "python3",
      "display_name": "Python 3"
    },
    "language_info": {
      "name": "python"
    }
  },
  "cells": [
    {
      "cell_type": "code",
      "execution_count": null,
      "metadata": {
        "id": "8PynqDpv8reo"
      },
      "outputs": [],
      "source": [
        "#Enumerate"
      ]
    },
    {
      "cell_type": "code",
      "source": [
        "shopping_list = [\"Ca rot\", \"Tao\", \"Sua\"]\n",
        "\n",
        "print(\"Danh sach mua sam:\")\n",
        "\n",
        "for index in range(len(shopping_list)):\n",
        "  print(f\"{index+1}. {shopping_list[index]}\")"
      ],
      "metadata": {
        "colab": {
          "base_uri": "https://localhost:8080/"
        },
        "id": "5wSYmeIr9DxW",
        "outputId": "dee8c7c5-b1e3-4514-ea57-9f13a3f7ec1c"
      },
      "execution_count": null,
      "outputs": [
        {
          "output_type": "stream",
          "name": "stdout",
          "text": [
            "Danh sach mua sam:\n",
            "1. Ca rot\n",
            "2. Tao\n",
            "3. Sua\n"
          ]
        }
      ]
    },
    {
      "cell_type": "code",
      "source": [
        "shopping_list = [\"Ca rot\", \"Tao\", \"Sua\"]\n",
        "print(\"Danh sach mua sam:\")\n",
        "\n",
        "for index, item in enumerate(shopping_list, start = 1):\n",
        "  print(f\"{index}. {item}\")"
      ],
      "metadata": {
        "colab": {
          "base_uri": "https://localhost:8080/"
        },
        "id": "cWtaSKqU9WQG",
        "outputId": "30886bda-ef4b-4557-8df4-37a76e8b83ab"
      },
      "execution_count": null,
      "outputs": [
        {
          "output_type": "stream",
          "name": "stdout",
          "text": [
            "1. Ca rot\n",
            "2. Tao\n",
            "3. Sua\n"
          ]
        }
      ]
    },
    {
      "cell_type": "code",
      "source": [
        "food_list = [\n",
        "    [\"Bo\", \"Pizza\", \"Sua\"],\n",
        "    [\"Xuc xich\", \"Tao\", \"Kem\"],\n",
        "    [\"Ca rot\", \"Banh dau\", \"Cupcake\"]\n",
        "]\n",
        "\n",
        "search_items = [\"Ca rot\", \"Tao\", \"Sua\"]\n",
        "\n",
        "for i in range(len(food_list)):\n",
        "  for j in range(len(food_list[i])):\n",
        "    if food_list[i][j] in search_items:\n",
        "      print(f\"{food_list[i][j]} duoc tim \"\n",
        "            f\"thay o hang {i + 1} va cot {j + 1}\")"
      ],
      "metadata": {
        "colab": {
          "base_uri": "https://localhost:8080/"
        },
        "id": "keE79aXH_Yp3",
        "outputId": "3422b33c-f2df-47d5-d7ff-f0abbac0d04e"
      },
      "execution_count": null,
      "outputs": [
        {
          "output_type": "stream",
          "name": "stdout",
          "text": [
            "Sua duoc tim thay o hang 1 va cot 3\n",
            "Tao duoc tim thay o hang 2 va cot 2\n",
            "Ca rot duoc tim thay o hang 3 va cot 1\n"
          ]
        }
      ]
    },
    {
      "cell_type": "code",
      "source": [
        "food_list = [\n",
        "    [\"Bo\", \"Pizza\", \"Sua\"],\n",
        "    [\"Xuc xich\", \"Tao\", \"Kem\"],\n",
        "    [\"Ca rot\", \"Banh dau\", \"Cupcake\"]\n",
        "]\n",
        "\n",
        "search_items = [\"Ca rot\", \"Tao\", \"Sua\"]\n",
        "\n",
        "for i, row in enumerate(food_list, start = 1):\n",
        "  for j, item in enumerate(row, start = 1):\n",
        "    if item in search_items:\n",
        "      print(f\"{item} duoc tim thay \"\n",
        "            f\"o hang {i} va cot {j}\")"
      ],
      "metadata": {
        "colab": {
          "base_uri": "https://localhost:8080/"
        },
        "id": "RpD27hlg9-ld",
        "outputId": "fa487a33-7afd-46a6-8e36-77279d85ac4b"
      },
      "execution_count": null,
      "outputs": [
        {
          "output_type": "stream",
          "name": "stdout",
          "text": [
            "Sua duoc tim thay o hang 1 va cot 3\n",
            "Tao duoc tim thay o hang 2 va cot 2\n",
            "Ca rot duoc tim thay o hang 3 va cot 1\n"
          ]
        }
      ]
    }
  ]
}