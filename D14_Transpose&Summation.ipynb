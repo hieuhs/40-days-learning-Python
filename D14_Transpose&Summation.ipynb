{
  "nbformat": 4,
  "nbformat_minor": 0,
  "metadata": {
    "colab": {
      "provenance": []
    },
    "kernelspec": {
      "name": "python3",
      "display_name": "Python 3"
    },
    "language_info": {
      "name": "python"
    }
  },
  "cells": [
    {
      "cell_type": "markdown",
      "source": [
        "A, TRANSPOSE"
      ],
      "metadata": {
        "id": "2hjmcVq3VGPs"
      }
    },
    {
      "cell_type": "markdown",
      "source": [
        "NUMPY CODE"
      ],
      "metadata": {
        "id": "rSxbsPv3VzSf"
      }
    },
    {
      "cell_type": "code",
      "source": [
        "import numpy as np\n",
        "\n",
        "#Tao array 2d\n",
        "arr_1 = np.array([[1, 2], [3, 4]])\n",
        "\n",
        "#Chuyen vi array\n",
        "#Cach 1: su dung ham np.transpose()\n",
        "arr_transposed_1 = np.transpose(arr_1)\n",
        "print(arr_transposed_1)"
      ],
      "metadata": {
        "colab": {
          "base_uri": "https://localhost:8080/"
        },
        "id": "sOTiEn71VHMV",
        "outputId": "0453e0f5-d678-4ea8-85da-a382b68d9a9d"
      },
      "execution_count": null,
      "outputs": [
        {
          "output_type": "stream",
          "name": "stdout",
          "text": [
            "[[1 3]\n",
            " [2 4]]\n"
          ]
        }
      ]
    },
    {
      "cell_type": "code",
      "source": [
        "#Cach 2: su hang toan tu T\n",
        "arr_transposed_2 = arr_1.T\n",
        "print(arr_transposed_2)"
      ],
      "metadata": {
        "colab": {
          "base_uri": "https://localhost:8080/"
        },
        "id": "TwbeoFdQUUlQ",
        "outputId": "5c7832bc-f41b-4b89-d037-72ef95d5225d"
      },
      "execution_count": null,
      "outputs": [
        {
          "output_type": "stream",
          "name": "stdout",
          "text": [
            "[[1 3]\n",
            " [2 4]]\n"
          ]
        }
      ]
    },
    {
      "cell_type": "markdown",
      "source": [
        "TORCH CODE"
      ],
      "metadata": {
        "id": "Mg15JUqOVNCq"
      }
    },
    {
      "cell_type": "code",
      "source": [
        "import torch"
      ],
      "metadata": {
        "id": "KDozmpOkUfQI"
      },
      "execution_count": null,
      "outputs": []
    },
    {
      "cell_type": "code",
      "source": [
        "#Tao tensor 2d\n",
        "tensor_1 = torch.tensor([[1, 2], [3, 4]])\n",
        "#Chuyen vi tensor\n",
        "#Cach 1: su dung ham torch.t()\n",
        "tensor_transposed_1 = torch.t(tensor_1)\n",
        "print(tensor_transposed_1)"
      ],
      "metadata": {
        "colab": {
          "base_uri": "https://localhost:8080/"
        },
        "id": "ScgmDVQPUh0c",
        "outputId": "a86d60a3-80f2-44f7-a12b-fdce801e2b8b"
      },
      "execution_count": null,
      "outputs": [
        {
          "output_type": "stream",
          "name": "stdout",
          "text": [
            "tensor([[1, 3],\n",
            "        [2, 4]])\n"
          ]
        }
      ]
    },
    {
      "cell_type": "code",
      "source": [
        "#Cach 2: su dung ham torch.transpose()\n",
        "tensor_transposed_2 = torch.transpose(tensor_1, 0, 1)\n",
        "print(tensor_transposed_2)"
      ],
      "metadata": {
        "colab": {
          "base_uri": "https://localhost:8080/"
        },
        "id": "IxVafa_nU2ZN",
        "outputId": "b7200a21-854c-47f1-c96f-3e3d592daf26"
      },
      "execution_count": null,
      "outputs": [
        {
          "output_type": "stream",
          "name": "stdout",
          "text": [
            "tensor([[1, 3],\n",
            "        [2, 4]])\n"
          ]
        }
      ]
    },
    {
      "cell_type": "markdown",
      "source": [
        "TENSOR FLOW CODE"
      ],
      "metadata": {
        "id": "059UXud8VP4O"
      }
    },
    {
      "cell_type": "code",
      "source": [
        "import tensorflow as tf\n",
        "\n",
        "#Tao tensor 2d\n",
        "tensor_1 = tf.constant([[1, 2],  [3, 4]])\n",
        "\n",
        "#Chuyen vi tensor\n",
        "tensor_transposed = tf.transpose(tensor_1)\n",
        "print(\"tensor 1: \\n\", tensor_1)\n",
        "print(\"tensor 1 sau khi chuyen vi: \\n\", tensor_transposed)"
      ],
      "metadata": {
        "colab": {
          "base_uri": "https://localhost:8080/"
        },
        "id": "FvXKeWFpU_Yf",
        "outputId": "526b7408-131d-4cb0-db98-8d2b914bfc4e"
      },
      "execution_count": null,
      "outputs": [
        {
          "output_type": "stream",
          "name": "stdout",
          "text": [
            "tensor 1: \n",
            " tf.Tensor(\n",
            "[[1 2]\n",
            " [3 4]], shape=(2, 2), dtype=int32)\n",
            "tensor 1 sau khi chuyen vi: \n",
            " tf.Tensor(\n",
            "[[1 3]\n",
            " [2 4]], shape=(2, 2), dtype=int32)\n"
          ]
        }
      ]
    },
    {
      "cell_type": "markdown",
      "source": [
        "B, SUMMATION:"
      ],
      "metadata": {
        "id": "8EitAWEjVvEB"
      }
    },
    {
      "cell_type": "markdown",
      "source": [
        "NUMPY"
      ],
      "metadata": {
        "id": "HswEilmOWVpK"
      }
    },
    {
      "cell_type": "code",
      "source": [
        "import numpy as np\n",
        "arr = np.array([[1,2,3],\n",
        "                [4,5,6]])\n",
        "#tinh tong tat ca phan tu\n",
        "total_sum = np.sum(arr)\n",
        "\n",
        "#tinh tong theo cot (theo chieu doc)\n",
        "col_sum = np.sum(arr, axis = 0)\n",
        "\n",
        "#tinh tong theo hang (theo chieu ngang)\n",
        "row_sum = np.sum(arr, axis = 1)\n",
        "\n",
        "print(\"Tong tat ca: \", total_sum)\n",
        "print(\"Tong theo cot: \\n\", col_sum)\n",
        "print(\"Tong theo hang: \\n\", row_sum)"
      ],
      "metadata": {
        "colab": {
          "base_uri": "https://localhost:8080/"
        },
        "id": "YBkkaCkXWAuQ",
        "outputId": "83cd5898-3603-411d-e9ed-2d504e05a86b"
      },
      "execution_count": null,
      "outputs": [
        {
          "output_type": "stream",
          "name": "stdout",
          "text": [
            "Tong tat ca:  21\n",
            "Tong theo cot: \n",
            " [5 7 9]\n",
            "Tong theo hang: \n",
            " [ 6 15]\n"
          ]
        }
      ]
    },
    {
      "cell_type": "code",
      "source": [
        "#trong torch: torch.sum(tensor_1, axis = 0)\n",
        "#trong tensorflow: tf.reduce_sum(tensor_1, axis = 1)"
      ],
      "metadata": {
        "id": "cVqlDbwxXVxh"
      },
      "execution_count": null,
      "outputs": []
    },
    {
      "cell_type": "code",
      "source": [
        "np.random.seed(2024)\n",
        "np_array_1 = np.random.randint(-10, 10, size = (3, 4))\n",
        "np_array_2 = np.random.randint(-10, 10, size = (3, 4))\n",
        "np_array_2_transposed = np.transpose(np_array_2)\n",
        "\n",
        "print(np.matmul(np_array_1, np_array_2_transposed))"
      ],
      "metadata": {
        "colab": {
          "base_uri": "https://localhost:8080/"
        },
        "id": "s5txT6pFYAXG",
        "outputId": "ea602699-90cd-4bda-cf3f-7e87bf1a4ee9"
      },
      "execution_count": null,
      "outputs": [
        {
          "output_type": "stream",
          "name": "stdout",
          "text": [
            "[[-80 -46 128]\n",
            " [-33 -30  67]\n",
            " [-25 -25  42]]\n"
          ]
        }
      ]
    },
    {
      "cell_type": "code",
      "source": [
        "tf_tensor1 = tf.random.uniform((3, 4), -10, 10, dtype = tf.dtypes.int32, seed = 2024)\n",
        "tf_tensor2 = tf.random.uniform((3, 4), -10, 10, dtype = tf.dtypes.int32, seed = 2024)\n",
        "tf_tensor2_T = tf.transpose(tf_tensor2)\n",
        "\n",
        "print(tf.linalg.matmul(tf_tensor1, tf_tensor2_T))"
      ],
      "metadata": {
        "colab": {
          "base_uri": "https://localhost:8080/"
        },
        "id": "POptfEw0ZD4j",
        "outputId": "abedb0de-92f2-4e06-c2de-199b897d1083"
      },
      "execution_count": null,
      "outputs": [
        {
          "output_type": "stream",
          "name": "stdout",
          "text": [
            "tf.Tensor(\n",
            "[[  18  -28   82]\n",
            " [ -24  -72 -111]\n",
            " [  62    4   46]], shape=(3, 3), dtype=int32)\n"
          ]
        }
      ]
    },
    {
      "cell_type": "code",
      "source": [
        "torch.manual_seed(2024)\n",
        "\n",
        "torch_1 = torch.randint(-10, 10, size=(3,4), dtype = torch.int32)\n",
        "torch_2 = torch.randint(-10, 10, size=(3,4), dtype = torch.int32)\n",
        "torch_2_T = torch.transpose(torch_2, 0, 1)\n",
        "\n",
        "print(torch.matmul(torch_1, torch_2_T))"
      ],
      "metadata": {
        "colab": {
          "base_uri": "https://localhost:8080/"
        },
        "id": "wE5nfj49Z8zV",
        "outputId": "b56b5344-89c0-4ef3-ba26-bfdd7c902d41"
      },
      "execution_count": null,
      "outputs": [
        {
          "output_type": "stream",
          "name": "stdout",
          "text": [
            "tensor([[  22,   36,  -62],\n",
            "        [ -89,  163,   99],\n",
            "        [  87, -180, -148]], dtype=torch.int32)\n"
          ]
        }
      ]
    }
  ]
}