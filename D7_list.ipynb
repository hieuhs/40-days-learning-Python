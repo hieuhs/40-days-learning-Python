{
  "nbformat": 4,
  "nbformat_minor": 0,
  "metadata": {
    "colab": {
      "provenance": []
    },
    "kernelspec": {
      "name": "python3",
      "display_name": "Python 3"
    },
    "language_info": {
      "name": "python"
    }
  },
  "cells": [
    {
      "cell_type": "code",
      "execution_count": null,
      "metadata": {
        "colab": {
          "base_uri": "https://localhost:8080/"
        },
        "id": "o_E16Lv06mD2",
        "outputId": "798d35ad-6de8-4486-f026-725d0f4809fa"
      },
      "outputs": [
        {
          "output_type": "stream",
          "name": "stdout",
          "text": [
            "[2, 4, 6, 8, 10, 12]\n"
          ]
        }
      ],
      "source": [
        "lst_data = []\n",
        "\n",
        "for i in range(1,13):\n",
        "  if i % 2 == 0:\n",
        "    lst_data.append(i)\n",
        "\n",
        "print(lst_data)"
      ]
    },
    {
      "cell_type": "code",
      "source": [
        "for item in lst_data:\n",
        "  if item % 3 == 0:\n",
        "    lst_data.remove(item)\n",
        "\n",
        "print(lst_data)"
      ],
      "metadata": {
        "colab": {
          "base_uri": "https://localhost:8080/"
        },
        "id": "hX_VWlvW62vB",
        "outputId": "963cf7d4-1b5b-4d06-f5e5-91f2b14ef59a"
      },
      "execution_count": null,
      "outputs": [
        {
          "output_type": "stream",
          "name": "stdout",
          "text": [
            "[2, 4, 8, 10]\n"
          ]
        }
      ]
    },
    {
      "cell_type": "code",
      "source": [
        "for item in [1,2,3]:\n",
        "  lst_data.append(item)\n",
        "print(lst_data)"
      ],
      "metadata": {
        "colab": {
          "base_uri": "https://localhost:8080/"
        },
        "id": "IaTaEzdY7S5R",
        "outputId": "4d571506-20d1-4d3d-b105-304576387299"
      },
      "execution_count": null,
      "outputs": [
        {
          "output_type": "stream",
          "name": "stdout",
          "text": [
            "[2, 4, 8, 10, 1, 2, 3]\n"
          ]
        }
      ]
    },
    {
      "cell_type": "code",
      "source": [
        "for item in [6,7,8]:\n",
        "  lst_data.insert(3, item)\n",
        "\n",
        "print(lst_data)"
      ],
      "metadata": {
        "colab": {
          "base_uri": "https://localhost:8080/"
        },
        "id": "-hKsWXmQ7q93",
        "outputId": "43dee090-30f5-4870-ddad-f327160462dc"
      },
      "execution_count": null,
      "outputs": [
        {
          "output_type": "stream",
          "name": "stdout",
          "text": [
            "[2, 4, 8, 8, 7, 6, 10, 1, 2, 3]\n"
          ]
        }
      ]
    },
    {
      "cell_type": "code",
      "source": [
        "for i in range(len(lst_data)):\n",
        "  if lst_data[i] % 2 == 0 or lst_data[i] % 5 == 0:\n",
        "    lst_data[i] = 0\n",
        "\n",
        "print(lst_data)"
      ],
      "metadata": {
        "colab": {
          "base_uri": "https://localhost:8080/"
        },
        "id": "iFyajg6f71YP",
        "outputId": "9b607827-73c2-49bd-c6de-d49f9fc4e6e9"
      },
      "execution_count": null,
      "outputs": [
        {
          "output_type": "stream",
          "name": "stdout",
          "text": [
            "[0, 0, 0, 0, 7, 0, 0, 1, 0, 3]\n"
          ]
        }
      ]
    }
  ]
}