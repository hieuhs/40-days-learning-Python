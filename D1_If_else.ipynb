{
  "nbformat": 4,
  "nbformat_minor": 0,
  "metadata": {
    "colab": {
      "provenance": []
    },
    "kernelspec": {
      "name": "python3",
      "display_name": "Python 3"
    },
    "language_info": {
      "name": "python"
    }
  },
  "cells": [
    {
      "cell_type": "code",
      "execution_count": null,
      "metadata": {
        "id": "cHdw9T8NFCHW"
      },
      "outputs": [],
      "source": [
        "def calculate_can_chi_calendar(year):\n",
        "  can_year = year%10\n",
        "  chi_year = year%12\n",
        "  can = \"\"\n",
        "  chi = \"\"\n",
        "  if can_year == 0: can=\"Canh\"\n",
        "  elif can_year == 1: can=\"Tân\"\n",
        "  elif can_year == 2: can=\"Nhâm\"\n",
        "  elif can_year == 3: can=\"Quý\"\n",
        "  elif can_year == 4: can=\"Giáp\"\n",
        "  elif can_year == 5: can=\"Ất\"\n",
        "  elif can_year == 6: can=\"Bính\"\n",
        "  elif can_year == 7: can=\"Đinh\"\n",
        "  elif can_year == 8: can=\"Mậu\"\n",
        "  elif can_year == 9: can=\"Kỷ\"\n",
        "\n",
        "  if chi_year == 0: chi=\"Thân\"\n",
        "  elif chi_year == 1: chi=\"Dậu\"\n",
        "  elif chi_year == 2: chi=\"Tuất\"\n",
        "  elif chi_year == 3: chi=\"Hợi\"\n",
        "  elif chi_year == 4: chi=\"Tý\"\n",
        "  elif chi_year == 5: chi=\"Sửu\"\n",
        "  elif chi_year == 6: chi=\"Dần\"\n",
        "  elif chi_year == 7: chi=\"Mão\"\n",
        "  elif chi_year == 8: chi=\"Thìn\"\n",
        "  elif chi_year == 9: chi=\"Tỵ\"\n",
        "  elif chi_year == 10: chi=\"Ngọ\"\n",
        "  elif chi_year == 11: chi=\"Mùi\"\n",
        "\n",
        "  result = can + \" \" + chi\n",
        "  print(result)"
      ]
    },
    {
      "cell_type": "code",
      "source": [
        "calculate_can_chi_calendar(1997)"
      ],
      "metadata": {
        "colab": {
          "base_uri": "https://localhost:8080/"
        },
        "id": "2Mb_HCQbHz2P",
        "outputId": "8d4f5d0e-26e6-47d4-ca17-5e552491df0f"
      },
      "execution_count": null,
      "outputs": [
        {
          "output_type": "stream",
          "name": "stdout",
          "text": [
            "Đinh Sửu\n"
          ]
        }
      ]
    },
    {
      "cell_type": "code",
      "source": [
        "def calculate_can_chi_calendar(year):\n",
        "  list_can = [\"Canh\", \"Tân\", \"Nhâm\", \"Quý\", \"Giáp\", \"Ất\", \"Bính\", \"Đinh\", \"Mậu\", \"Kỷ\"]\n",
        "  list_chi = [\"Thân\", \"Dậu\", \"Tuất\", \"Hợi\", \"Tý\", \"Sửu\", \"Dần\", \"Mão\", \"Thìn\", \"Tỵ\", \"Ngọ\", \"Mùi\"]\n",
        "  result = list_can[year%10] + \" \" + list_chi[year%12]\n",
        "  print(result)"
      ],
      "metadata": {
        "id": "Qcid1ux_H4XX"
      },
      "execution_count": null,
      "outputs": []
    },
    {
      "cell_type": "code",
      "source": [
        "calculate_can_chi_calendar(2002)"
      ],
      "metadata": {
        "colab": {
          "base_uri": "https://localhost:8080/"
        },
        "id": "g4QctpjHIrQj",
        "outputId": "6ff935eb-303f-4753-fc60-31e9efb09ae1"
      },
      "execution_count": null,
      "outputs": [
        {
          "output_type": "stream",
          "name": "stdout",
          "text": [
            "Nhâm Ngọ\n"
          ]
        }
      ]
    }
  ]
}